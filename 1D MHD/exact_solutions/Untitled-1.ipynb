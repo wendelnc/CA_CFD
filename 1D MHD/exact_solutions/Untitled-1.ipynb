{
 "cells": [
  {
   "cell_type": "code",
   "execution_count": null,
   "metadata": {},
   "outputs": [],
   "source": [
    "import os\n",
    "import datetime\n",
    "import numpy as np\n",
    "import pandas as pd\n",
    "from time import time, sleep\n",
    "import matplotlib.pyplot as plt\n",
    "import matplotlib.animation as animation"
   ]
  },
  {
   "cell_type": "code",
   "execution_count": null,
   "metadata": {},
   "outputs": [],
   "source": [
    "folder_path = os.path.join(os.getcwd(), 'exact_solutions')\n",
    "\n",
    "file_path = os.path.join(folder_path, 'brio_wu.8')\n",
    "\n",
    "df = pd.read_csv(file_path, sep=\"\\s+\", header=None)  \n",
    "\n",
    "den = df[0].values\n",
    "vex = df[2].values\n",
    "vey = df[3].values\n",
    "vez = df[6].values\n",
    "pre = df[1].values\n",
    "Bx  = df[4].values\n",
    "By  = df[5].values\n",
    "Bz  = df[7].values"
   ]
  }
 ],
 "metadata": {
  "kernelspec": {
   "display_name": "CMSE23",
   "language": "python",
   "name": "python3"
  },
  "language_info": {
   "name": "python",
   "version": "3.11.4"
  }
 },
 "nbformat": 4,
 "nbformat_minor": 2
}
